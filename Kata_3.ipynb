{
 "cells": [
  {
   "cell_type": "markdown",
   "metadata": {},
   "source": [
    "# Ejercicio - Escribir declaraciones if, else, y elif"
   ]
  },
  {
   "cell_type": "code",
   "execution_count": 8,
   "metadata": {},
   "outputs": [
    {
     "name": "stdout",
     "output_type": "stream",
     "text": [
      "¡¡¡Peligro!!!! ¡¡¡Asteroide acercandose!!!, velocidad de: 49 Km/s\n"
     ]
    }
   ],
   "source": [
    "Asteroide=True\n",
    "VelocidadAsteroide=49 \n",
    "UnidadMedicion=\"Km/s\"\n",
    "if(Asteroide==True):\n",
    "    if(VelocidadAsteroide<25):\n",
    "        print(\"Asteroide no peligroso, velocidad del Asteroide:\",VelocidadAsteroide,UnidadMedicion)\n",
    "    else:\n",
    "        print(\"¡¡¡Peligro!!!! ¡¡¡Asteroide acercandose!!!, velocidad del Asteroide:\",VelocidadAsteroide,UnidadMedicion)\n",
    "else:\n",
    "    print(\"No Existe riesgo de asteroide, Nosotros le informamos sobre algun peligro\",VelocidadAsteroide,UnidadMedicion)\n"
   ]
  },
  {
   "cell_type": "code",
   "execution_count": 6,
   "metadata": {},
   "outputs": [
    {
     "name": "stdout",
     "output_type": "stream",
     "text": [
      "¡¡¡Advertencia!!!! ¡¡¡Asteroide acercandose a la Tierra Buscalo, velocidad de:!!! 21 Km/s\n"
     ]
    }
   ],
   "source": [
    "Aste_Entro_Admosfera=True\n",
    "VelocidadAsteroide=21 \n",
    "UnidadMedicion=\"Km/s\"\n",
    "if(Asteroide==True):\n",
    "    if(VelocidadAsteroide<20):\n",
    "        print(\"Asteroide no Visible, Velocidad del Asteroide\",VelocidadAsteroide,UnidadMedicion)\n",
    "    else:\n",
    "        print(\"¡¡¡Advertencia!!!! ¡¡¡Asteroide acercandose a la Tierra Buscalo!!!, velocidad del asteroide:\",VelocidadAsteroide,UnidadMedicion)\n",
    "else:\n",
    "    print(\"No Hay Asteroide acercandoce a la tierra, Nosotros le informamos de algun peligro\")"
   ]
  },
  {
   "cell_type": "markdown",
   "metadata": {},
   "source": [
    "# Ejercicio: Uso de operadores and y or"
   ]
  },
  {
   "cell_type": "code",
   "execution_count": 8,
   "metadata": {},
   "outputs": [
    {
     "name": "stdout",
     "output_type": "stream",
     "text": [
      "¡Peligro!!!!! Asteroide chocara contra la tierra 16 Km/s Tamaño del Asteroide 26 m\n",
      "Asteroide no Visible, Velocidad del Asteroide 16 Km/s Tamaño del Asteroide 26 m\n"
     ]
    }
   ],
   "source": [
    "Aste_Entro_Admosfera=True\n",
    "VelocidadAsteroide=16\n",
    "Densidad_Asteroide=26\n",
    "UnidadMedicion_velocidad=\"Km/s\"\n",
    "UnidadMedicion_Tamaño=\"m\"\n",
    "if(Aste_Entro_Admosfera==True):\n",
    "    if(Densidad_Asteroide<25):\n",
    "        print(\"No hay Peligro de un posible desastre mayor\",VelocidadAsteroide,UnidadMedicion_velocidad,\"Tamaño del Asteroide\",Densidad_Asteroide,UnidadMedicion_Tamaño)\n",
    "        if(VelocidadAsteroide<20):\n",
    "            print(\"Asteroide no Visible, Velocidad del Asteroide\",VelocidadAsteroide,UnidadMedicion_velocidad,\"Tamaño del Asteroide\",Densidad_Asteroide,UnidadMedicion_Tamaño)\n",
    "        else:\n",
    "            print(\"¡¡¡Aviso!!!! ¡¡¡Asteroide acercandose a la Tierra Buscalo!!!, velocidad del asteroide:\",VelocidadAsteroide,UnidadMedicion_velocidad,\"Tamaño del Asteroide\",Densidad_Asteroide,UnidadMedicion_Tamaño)\n",
    "    else:\n",
    "        print(\"¡Peligro!!!!! Asteroide chocara contra la tierra\",VelocidadAsteroide,UnidadMedicion_velocidad,\"Tamaño del Asteroide\",Densidad_Asteroide,UnidadMedicion_Tamaño)\n",
    "        if(VelocidadAsteroide<20):\n",
    "            print(\"Asteroide no Visible, Velocidad del Asteroide\",VelocidadAsteroide,UnidadMedicion_velocidad,\"Tamaño del Asteroide\",Densidad_Asteroide,UnidadMedicion_Tamaño)\n",
    "        else:\n",
    "            print(\"¡¡¡Aviso!!!! ¡¡¡Asteroide acercandose a la Tierra Buscalo!!!, velocidad del asteroide:\",VelocidadAsteroide,UnidadMedicion,\"Tamaño del Asteroide\",Densidad_Asteroide,UnidadMedicion_Tamaño)\n",
    "else:\n",
    "    print(\"No Hay Asteroide acercandoce a la tierra, Nosotros le informamos de algun peligro\")"
   ]
  }
 ],
 "metadata": {
  "interpreter": {
   "hash": "10c6a7b956b9eb248148ab7fd768eb98ca59533ef93989426391b507b638d295"
  },
  "kernelspec": {
   "display_name": "Python 3.9.6 64-bit",
   "language": "python",
   "name": "python3"
  },
  "language_info": {
   "codemirror_mode": {
    "name": "ipython",
    "version": 3
   },
   "file_extension": ".py",
   "mimetype": "text/x-python",
   "name": "python",
   "nbconvert_exporter": "python",
   "pygments_lexer": "ipython3",
   "version": "3.9.6"
  },
  "orig_nbformat": 4
 },
 "nbformat": 4,
 "nbformat_minor": 2
}
