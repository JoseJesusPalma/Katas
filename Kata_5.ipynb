{
 "cells": [
  {
   "cell_type": "markdown",
   "metadata": {},
   "source": [
    "# Ejercicio1 - Utilizar operadores aritméticos"
   ]
  },
  {
   "cell_type": "code",
   "execution_count": 5,
   "metadata": {},
   "outputs": [
    {
     "name": "stdout",
     "output_type": "stream",
     "text": [
      "La distancia de jupiter a la tierra es de: 628949330 KM\n",
      "la Distancia en Millas es: 395825487.13952\n"
     ]
    }
   ],
   "source": [
    "Distancia_tierra=149597870\n",
    "Distancia_jupiter=778547200\n",
    "Distancia_tierraajupiter=Distancia_jupiter - Distancia_tierra\n",
    "UnidadMedicion=\"KM\"\n",
    "Distancia_tierraajupiterMillas=Distancia_tierraajupiter * 0.621371\n",
    "print(\"La distancia de jupiter a la tierra es de:\", Distancia_tierraajupiter, UnidadMedicion)\n",
    "print(\"la Distancia en Millas es:\", Distancia_tierraajupiterMillas)\n"
   ]
  },
  {
   "cell_type": "markdown",
   "metadata": {},
   "source": [
    "# Ejercicio 2: convierte cadenas en números y usa valores absolutos"
   ]
  },
  {
   "cell_type": "code",
   "execution_count": 2,
   "metadata": {},
   "outputs": [
    {
     "name": "stdout",
     "output_type": "stream",
     "text": [
      "La distancia total entre los planetas es: 0 KM\n",
      "la Distancia en Millas es: 0.0\n"
     ]
    }
   ],
   "source": [
    "Distancia_primerplaneta=input(\"Agrega la distacia del primer planeta:\")\n",
    "distancia_primerplaneta=int(Distancia_primerplaneta)\n",
    "Distancia_Segundoplaneta=input(\"Agrega la distacia del segundo planeta:\")\n",
    "distancia_primerplaneta=int(Distancia_Segundoplaneta)\n",
    "UnidadMedicion=\"KM\"\n",
    "Distancia_total= distancia_primerplaneta - distancia_primerplaneta\n",
    "Distancia_planetas= Distancia_total * 0.621371\n",
    "print(\"La distancia total entre los planetas es:\", Distancia_total, UnidadMedicion)\n",
    "print(\"la Distancia en Millas es:\", Distancia_planetas)"
   ]
  }
 ],
 "metadata": {
  "interpreter": {
   "hash": "10c6a7b956b9eb248148ab7fd768eb98ca59533ef93989426391b507b638d295"
  },
  "kernelspec": {
   "display_name": "Python 3.9.6 64-bit",
   "language": "python",
   "name": "python3"
  },
  "language_info": {
   "codemirror_mode": {
    "name": "ipython",
    "version": 3
   },
   "file_extension": ".py",
   "mimetype": "text/x-python",
   "name": "python",
   "nbconvert_exporter": "python",
   "pygments_lexer": "ipython3",
   "version": "3.9.6"
  },
  "orig_nbformat": 4
 },
 "nbformat": 4,
 "nbformat_minor": 2
}
